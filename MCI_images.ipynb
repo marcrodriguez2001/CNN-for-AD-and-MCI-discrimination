{
 "cells": [
  {
   "cell_type": "markdown",
   "id": "e854fe3a-f604-48d7-8eac-ea02c651afba",
   "metadata": {},
   "source": [
    "## Neuroimaging"
   ]
  },
  {
   "cell_type": "code",
   "execution_count": 1,
   "id": "f2a7d8f2-df7a-4272-b681-d22c42203884",
   "metadata": {
    "tags": []
   },
   "outputs": [],
   "source": [
    "import os\n",
    "import pydicom\n",
    "import numpy as np\n",
    "import matplotlib.pyplot as plt"
   ]
  },
  {
   "cell_type": "code",
   "execution_count": 2,
   "id": "f1f70d2a-4a6f-4984-9f37-74af7618205f",
   "metadata": {
    "tags": []
   },
   "outputs": [],
   "source": [
    "# Ruta de la carpeta que contiene los archivos DICOM\n",
    "input_folder_path = \"MCI_ADNI\""
   ]
  },
  {
   "cell_type": "code",
   "execution_count": 3,
   "id": "fec5955f-adb3-4b20-8579-53b039f1c0b9",
   "metadata": {
    "tags": []
   },
   "outputs": [],
   "source": [
    "# Ruta de la carpeta donde se guardarán las imágenes PNG\n",
    "output_images_folder_path = \"Images_MCI\""
   ]
  },
  {
   "cell_type": "code",
   "execution_count": 4,
   "id": "4c269432-aa63-4357-82b6-6d40b81dfb80",
   "metadata": {
    "tags": []
   },
   "outputs": [],
   "source": [
    "# Ruta de la carpeta donde se guardarán las matrices\n",
    "output_matrices_folder_path = \"Matrix_MCI\""
   ]
  },
  {
   "cell_type": "code",
   "execution_count": 5,
   "id": "e1ba6f20-0c59-4f3e-9bd9-1a629fa4b4f7",
   "metadata": {
    "tags": []
   },
   "outputs": [],
   "source": [
    "# Obtener la lista de archivos en la carpeta de entrada\n",
    "files = os.listdir(input_folder_path)"
   ]
  },
  {
   "cell_type": "code",
   "execution_count": 6,
   "id": "6ec495b9-ab2c-4586-825f-ebe9d5f4aef5",
   "metadata": {
    "tags": []
   },
   "outputs": [],
   "source": [
    "# Crear una lista para almacenar todas las matrices de píxeles\n",
    "pixel_arrays = []"
   ]
  },
  {
   "cell_type": "code",
   "execution_count": 7,
   "id": "226ab8e3-b58f-449c-8b27-042491dc3142",
   "metadata": {
    "tags": []
   },
   "outputs": [
    {
     "name": "stdout",
     "output_type": "stream",
     "text": [
      "Imagen y matriz guardadas: ADNI_002_S_0729_MR_Axial_PD_T2_FSE__br_raw_20060718015549352_1_S16873_I19056.png\n",
      "Imagen y matriz guardadas: ADNI_002_S_0729_MR_Axial_PD_T2_FSE__br_raw_20060718015551719_9_S16873_I19056.png\n",
      "Imagen y matriz guardadas: ADNI_002_S_0729_MR_Axial_PD_T2_FSE__br_raw_20060718015554112_17_S16873_I19056.png\n",
      "Imagen y matriz guardadas: ADNI_002_S_0729_MR_Axial_PD_T2_FSE__br_raw_20060718015557706_25_S16873_I19056.png\n",
      "Imagen y matriz guardadas: ADNI_002_S_0729_MR_Axial_PD_T2_FSE__br_raw_20060718015600158_33_S16873_I19056.png\n",
      "Imagen y matriz guardadas: ADNI_002_S_0729_MR_Axial_PD_T2_FSE__br_raw_20060718015602545_41_S16873_I19056.png\n",
      "Imagen y matriz guardadas: ADNI_002_S_0729_MR_Axial_PD_T2_FSE__br_raw_20060718015604918_49_S16873_I19056.png\n",
      "Imagen y matriz guardadas: ADNI_002_S_0729_MR_Axial_PD_T2_FSE__br_raw_20060718015608541_57_S16873_I19056.png\n",
      "Imagen y matriz guardadas: ADNI_002_S_0729_MR_Axial_PD_T2_FSE__br_raw_20060718015610915_65_S16873_I19056.png\n",
      "Imagen y matriz guardadas: ADNI_002_S_0729_MR_Axial_PD_T2_FSE__br_raw_20060718015613363_73_S16873_I19056.png\n",
      "Imagen y matriz guardadas: ADNI_002_S_0729_MR_Axial_PD_T2_FSE__br_raw_20070225110124930_58_S27090_I41587.png\n",
      "Imagen y matriz guardadas: ADNI_002_S_0729_MR_Axial_PD_T2_FSE__br_raw_20060718015615746_81_S16873_I19056.png\n",
      "Imagen y matriz guardadas: ADNI_002_S_0729_MR_Axial_PD_T2_FSE__br_raw_20060718015721796_85_S16873_I19056.png\n",
      "Imagen y matriz guardadas: ADNI_002_S_0729_MR_Axial_PD_T2_FSE__br_raw_20060718015619336_89_S16873_I19056.png\n",
      "Imagen y matriz guardadas: ADNI_002_S_0729_MR_Axial_PD_T2_FSE__br_raw_20060718015728936_15_S16873_I19056.png\n",
      "Imagen y matriz guardadas: ADNI_002_S_0729_MR_Axial_PD_T2_FSE__br_raw_20060718015621565_3_S16873_I19056.png\n",
      "Imagen y matriz guardadas: ADNI_002_S_0729_MR_Axial_PD_T2_FSE__br_raw_20060718015735016_31_S16873_I19056.png\n",
      "Imagen y matriz guardadas: ADNI_002_S_0729_MR_Axial_PD_T2_FSE__br_raw_20060718015623944_11_S16873_I19056.png\n",
      "Imagen y matriz guardadas: ADNI_002_S_0729_MR_Axial_PD_T2_FSE__br_raw_20070225110117630_1_S27090_I41584.png\n",
      "Imagen y matriz guardadas: ADNI_002_S_0729_MR_Axial_PD_T2_FSE__br_raw_20060718015626309_19_S16873_I19056.png\n",
      "Imagen y matriz guardadas: ADNI_002_S_0729_MR_Axial_PD_T2_FSE__br_raw_20060718015629956_27_S16873_I19056.png\n",
      "Imagen y matriz guardadas: ADNI_002_S_0729_MR_Axial_PD_T2_FSE__br_raw_20070225110119466_17_S27090_I41584.png\n",
      "Imagen y matriz guardadas: ADNI_002_S_0729_MR_Axial_PD_T2_FSE__br_raw_20070225110120324_25_S27090_I41584.png\n",
      "Imagen y matriz guardadas: ADNI_002_S_0729_MR_Axial_PD_T2_FSE__br_raw_20060718015632325_35_S16873_I19056.png\n",
      "Imagen y matriz guardadas: ADNI_002_S_0729_MR_Axial_PD_T2_FSE__br_raw_20070225110121876_33_S27090_I41584.png\n",
      "Imagen y matriz guardadas: ADNI_002_S_0729_MR_Axial_PD_T2_FSE__br_raw_20060718015634706_43_S16873_I19056.png\n",
      "Imagen y matriz guardadas: ADNI_002_S_0729_MR_Axial_PD_T2_FSE__br_raw_20070225110123197_42_S27090_I41587.png\n",
      "Imagen y matriz guardadas: ADNI_002_S_0729_MR_Axial_PD_T2_FSE__br_raw_20060718015637104_51_S16873_I19056.png\n",
      "Imagen y matriz guardadas: ADNI_002_S_0729_MR_Axial_PD_T2_FSE__br_raw_20070225110128101_82_S27090_I41587.png\n",
      "Imagen y matriz guardadas: ADNI_002_S_0729_MR_Axial_PD_T2_FSE__br_raw_20060718015640775_59_S16873_I19056.png\n",
      "Imagen y matriz guardadas: ADNI_002_S_0729_MR_Axial_PD_T2_FSE__br_raw_20070225110128944_90_S27090_I41587.png\n",
      "Imagen y matriz guardadas: ADNI_002_S_0729_MR_Axial_PD_T2_FSE__br_raw_20060718015643118_67_S16873_I19056.png\n",
      "Imagen y matriz guardadas: ADNI_002_S_0729_MR_Axial_PD_T2_FSE__br_raw_20070225110130435_4_S27090_I41587.png\n",
      "Imagen y matriz guardadas: ADNI_002_S_0729_MR_Axial_PD_T2_FSE__br_raw_20060718015645529_75_S16873_I19056.png\n",
      "Imagen y matriz guardadas: ADNI_002_S_0729_MR_Axial_PD_T2_FSE__br_raw_20070225110131319_12_S27090_I41587.png\n",
      "Imagen y matriz guardadas: ADNI_002_S_0729_MR_Axial_PD_T2_FSE__br_raw_20060718015649072_83_S16873_I19056.png\n",
      "Imagen y matriz guardadas: ADNI_002_S_0729_MR_Axial_PD_T2_FSE__br_raw_20070225110154609_7_S27090_I41584.png\n",
      "Imagen y matriz guardadas: ADNI_002_S_0729_MR_Axial_PD_T2_FSE__br_raw_20060718015651504_91_S16873_I19056.png\n",
      "Imagen y matriz guardadas: ADNI_002_S_0729_MR_Axial_PD_T2_FSE__br_raw_20070225110155406_15_S27090_I41584.png\n",
      "Imagen y matriz guardadas: ADNI_002_S_0729_MR_Axial_PD_T2_FSE__br_raw_20060718015653907_5_S16873_I19056.png\n",
      "Imagen y matriz guardadas: ADNI_002_S_0729_MR_Axial_PD_T2_FSE__br_raw_20070225110156263_23_S27090_I41584.png\n",
      "Imagen y matriz guardadas: ADNI_002_S_0729_MR_Axial_PD_T2_FSE__br_raw_20060718015656359_13_S16873_I19056.png\n",
      "Imagen y matriz guardadas: ADNI_002_S_0729_MR_Axial_PD_T2_FSE__br_raw_20070225110157760_31_S27090_I41584.png\n",
      "Imagen y matriz guardadas: ADNI_002_S_0729_MR_Axial_PD_T2_FSE__br_raw_20060718015700103_21_S16873_I19056.png\n",
      "Imagen y matriz guardadas: ADNI_002_S_0729_MR_Axial_PD_T2_FSE__br_raw_20070225110159418_47_S27090_I41584.png\n",
      "Imagen y matriz guardadas: ADNI_002_S_0729_MR_Axial_PD_T2_FSE__br_raw_20060718015702524_29_S16873_I19056.png\n",
      "Imagen y matriz guardadas: ADNI_002_S_0729_MR_Axial_PD_T2_FSE__br_raw_20070225110203437_79_S27090_I41584.png\n",
      "Imagen y matriz guardadas: ADNI_002_S_0729_MR_Axial_PD_T2_FSE__br_raw_20060718015704907_37_S16873_I19056.png\n",
      "Imagen y matriz guardadas: ADNI_002_S_0729_MR_Axial_PD_T2_FSE__br_raw_20070225110204259_87_S27090_I41584.png\n",
      "Imagen y matriz guardadas: ADNI_002_S_0729_MR_Axial_PD_T2_FSE__br_raw_20060718015707317_45_S16873_I19056.png\n",
      "Imagen y matriz guardadas: ADNI_002_S_0729_MR_Axial_PD_T2_FSE__br_raw_20070225110206239_96_S27090_I41587.png\n",
      "Imagen y matriz guardadas: ADNI_002_S_0729_MR_Axial_PD_T2_FSE__br_raw_20060718015710948_53_S16873_I19056.png\n",
      "Imagen y matriz guardadas: ADNI_002_S_0729_MR_Axial_PD_T2_FSE__br_raw_20070225110205112_95_S27090_I41584.png\n",
      "Imagen y matriz guardadas: ADNI_002_S_0729_MR_Axial_PD_T2_FSE__br_raw_20060718015713321_61_S16873_I19056.png\n",
      "Imagen y matriz guardadas: ADNI_002_S_0729_MR_Axial_PD_T2_FSE__br_raw_20070225110204679_88_S27090_I41587.png\n",
      "Imagen y matriz guardadas: ADNI_002_S_0729_MR_Axial_PD_T2_FSE__br_raw_20060718015715724_69_S16873_I19056.png\n",
      "Imagen y matriz guardadas: ADNI_002_S_0729_MR_Axial_PD_T2_FSE__br_raw_20070225110203848_80_S27090_I41587.png\n",
      "Imagen y matriz guardadas: ADNI_002_S_0729_MR_Axial_PD_T2_FSE__br_raw_20060718015718121_77_S16873_I19056.png\n",
      "Imagen y matriz guardadas: ADNI_002_S_0729_MR_Axial_PD_T2_FSE__br_raw_20070225110203004_72_S27090_I41587.png\n",
      "Imagen y matriz guardadas: ADNI_002_S_0729_MR_Axial_PD_T2_FSE__br_raw_20060718015724165_93_S16873_I19056.png\n",
      "Imagen y matriz guardadas: ADNI_002_S_0729_MR_Axial_PD_T2_FSE__br_raw_20070225110202580_71_S27090_I41584.png\n",
      "Imagen y matriz guardadas: ADNI_002_S_0729_MR_Axial_PD_T2_FSE__br_raw_20060718015726547_7_S16873_I19056.png\n",
      "Imagen y matriz guardadas: ADNI_002_S_0729_MR_Axial_PD_T2_FSE__br_raw_20070225110202191_64_S27090_I41587.png\n",
      "Imagen y matriz guardadas: ADNI_002_S_0729_MR_Axial_PD_T2_FSE__br_raw_20070225110201784_63_S27090_I41584.png\n",
      "Imagen y matriz guardadas: ADNI_002_S_0729_MR_Axial_PD_T2_FSE__br_raw_20060718015732533_23_S16873_I19056.png\n",
      "Imagen y matriz guardadas: ADNI_002_S_0729_MR_Axial_PD_T2_FSE__br_raw_20070225110200684_56_S27090_I41587.png\n",
      "Imagen y matriz guardadas: ADNI_002_S_0729_MR_Axial_PD_T2_FSE__br_raw_20060718015737368_39_S16873_I19056.png\n",
      "Imagen y matriz guardadas: ADNI_002_S_0729_MR_Axial_PD_T2_FSE__br_raw_20070225110200251_55_S27090_I41584.png\n",
      "Imagen y matriz guardadas: ADNI_002_S_0729_MR_Axial_PD_T2_FSE__br_raw_20060718015740942_47_S16873_I19056.png\n",
      "Imagen y matriz guardadas: ADNI_002_S_0729_MR_Axial_PD_T2_FSE__br_raw_20070225110159833_48_S27090_I41587.png\n",
      "Imagen y matriz guardadas: ADNI_002_S_0729_MR_Axial_PD_T2_FSE__br_raw_20060718015743366_55_S16873_I19056.png\n",
      "Imagen y matriz guardadas: ADNI_002_S_0729_MR_Axial_PD_T2_FSE__br_raw_20070225110159001_40_S27090_I41587.png\n",
      "Imagen y matriz guardadas: ADNI_002_S_0729_MR_Axial_PD_T2_FSE__br_raw_20060718015745742_63_S16873_I19056.png\n",
      "Imagen y matriz guardadas: ADNI_002_S_0729_MR_Axial_PD_T2_FSE__br_raw_20070225110158606_39_S27090_I41584.png\n",
      "Imagen y matriz guardadas: ADNI_002_S_0729_MR_Axial_PD_T2_FSE__br_raw_20060718015748196_71_S16873_I19056.png\n",
      "Imagen y matriz guardadas: ADNI_002_S_0729_MR_Axial_PD_T2_FSE__br_raw_20070225110158190_32_S27090_I41587.png\n",
      "Imagen y matriz guardadas: ADNI_002_S_0729_MR_Axial_PD_T2_FSE__br_raw_20060718015751776_79_S16873_I19056.png\n",
      "Imagen y matriz guardadas: ADNI_002_S_0729_MR_Axial_PD_T2_FSE__br_raw_20070225110157339_24_S27090_I41587.png\n",
      "Imagen y matriz guardadas: ADNI_002_S_0729_MR_Axial_PD_T2_FSE__br_raw_20060718015754157_87_S16873_I19056.png\n",
      "Imagen y matriz guardadas: ADNI_002_S_0729_MR_Axial_PD_T2_FSE__br_raw_20070225110155840_16_S27090_I41587.png\n",
      "Imagen y matriz guardadas: ADNI_002_S_0729_MR_Axial_PD_T2_FSE__br_raw_20060718015756581_95_S16873_I19056.png\n",
      "Imagen y matriz guardadas: ADNI_002_S_0729_MR_Axial_PD_T2_FSE__br_raw_20070225110154994_8_S27090_I41587.png\n",
      "Imagen y matriz guardadas: ADNI_002_S_0729_MR_Axial_PD_T2_FSE__br_raw_20070225110154195_94_S27090_I41587.png\n",
      "Imagen y matriz guardadas: ADNI_002_S_0729_MR_Axial_PD_T2_FSE__br_raw_20070225110118107_2_S27090_I41587.png\n",
      "Imagen y matriz guardadas: ADNI_002_S_0729_MR_Axial_PD_T2_FSE__br_raw_20070225110153772_93_S27090_I41584.png\n",
      "Imagen y matriz guardadas: ADNI_002_S_0729_MR_Axial_PD_T2_FSE__br_raw_20070225110118527_9_S27090_I41584.png\n",
      "Imagen y matriz guardadas: ADNI_002_S_0729_MR_Axial_PD_T2_FSE__br_raw_20070225110153261_86_S27090_I41587.png\n",
      "Imagen y matriz guardadas: ADNI_002_S_0729_MR_Axial_PD_T2_FSE__br_raw_20070225110119058_10_S27090_I41587.png\n",
      "Imagen y matriz guardadas: ADNI_002_S_0729_MR_Axial_PD_T2_FSE__br_raw_20070225110152843_85_S27090_I41584.png\n",
      "Imagen y matriz guardadas: ADNI_002_S_0729_MR_Axial_PD_T2_FSE__br_raw_20070225110119906_18_S27090_I41587.png\n",
      "Imagen y matriz guardadas: ADNI_002_S_0729_MR_Axial_PD_T2_FSE__br_raw_20070225110151748_78_S27090_I41587.png\n",
      "Imagen y matriz guardadas: ADNI_002_S_0729_MR_Axial_PD_T2_FSE__br_raw_20070225110120753_26_S27090_I41587.png\n",
      "Imagen y matriz guardadas: ADNI_002_S_0729_MR_Axial_PD_T2_FSE__br_raw_20070225110151317_77_S27090_I41584.png\n",
      "Imagen y matriz guardadas: ADNI_002_S_0729_MR_Axial_PD_T2_FSE__br_raw_20070225110122334_34_S27090_I41587.png\n",
      "Imagen y matriz guardadas: ADNI_002_S_0729_MR_Axial_PD_T2_FSE__br_raw_20070225110150898_70_S27090_I41587.png\n",
      "Imagen y matriz guardadas: ADNI_002_S_0729_MR_Axial_PD_T2_FSE__br_raw_20070225110122767_41_S27090_I41584.png\n",
      "Imagen y matriz guardadas: ADNI_002_S_0729_MR_Axial_PD_T2_FSE__br_raw_20070225110150491_69_S27090_I41584.png\n",
      "Imagen y matriz guardadas: ADNI_002_S_0729_MR_Axial_PD_T2_FSE__br_raw_20070225110123594_49_S27090_I41584.png\n",
      "Imagen y matriz guardadas: ADNI_002_S_0729_MR_Axial_PD_T2_FSE__br_raw_20070225110150071_62_S27090_I41587.png\n",
      "Imagen y matriz guardadas: ADNI_002_S_0729_MR_Axial_PD_T2_FSE__br_raw_20070225110124083_50_S27090_I41587.png\n",
      "Imagen y matriz guardadas: ADNI_002_S_0729_MR_Axial_PD_T2_FSE__br_raw_20070225110149656_61_S27090_I41584.png\n",
      "Imagen y matriz guardadas: ADNI_002_S_0729_MR_Axial_PD_T2_FSE__br_raw_20070225110124509_57_S27090_I41584.png\n",
      "Imagen y matriz guardadas: ADNI_002_S_0729_MR_Axial_PD_T2_FSE__br_raw_20070225110149229_54_S27090_I41587.png\n",
      "Imagen y matriz guardadas: ADNI_002_S_0729_MR_Axial_PD_T2_FSE__br_raw_20070225110126038_65_S27090_I41584.png\n",
      "Imagen y matriz guardadas: ADNI_002_S_0729_MR_Axial_PD_T2_FSE__br_raw_20070225110148789_53_S27090_I41584.png\n",
      "Imagen y matriz guardadas: ADNI_002_S_0729_MR_Axial_PD_T2_FSE__br_raw_20070225110126447_66_S27090_I41587.png\n",
      "Imagen y matriz guardadas: ADNI_002_S_0729_MR_Axial_PD_T2_FSE__br_raw_20070225110147648_46_S27090_I41587.png\n",
      "Imagen y matriz guardadas: ADNI_002_S_0729_MR_Axial_PD_T2_FSE__br_raw_20070225110126869_73_S27090_I41584.png\n",
      "Imagen y matriz guardadas: ADNI_002_S_0729_MR_Axial_PD_T2_FSE__br_raw_20070225110147201_45_S27090_I41584.png\n",
      "Imagen y matriz guardadas: ADNI_002_S_0729_MR_Axial_PD_T2_FSE__br_raw_20070225110127271_74_S27090_I41587.png\n",
      "Imagen y matriz guardadas: ADNI_002_S_0729_MR_Axial_PD_T2_FSE__br_raw_20070225110146805_38_S27090_I41587.png\n",
      "Imagen y matriz guardadas: ADNI_002_S_0729_MR_Axial_PD_T2_FSE__br_raw_20070225110127690_81_S27090_I41584.png\n",
      "Imagen y matriz guardadas: ADNI_002_S_0729_MR_Axial_PD_T2_FSE__br_raw_20070225110146316_37_S27090_I41584.png\n",
      "Imagen y matriz guardadas: ADNI_002_S_0729_MR_Axial_PD_T2_FSE__br_raw_20070225110129358_3_S27090_I41584.png\n",
      "Imagen y matriz guardadas: ADNI_002_S_0729_MR_Axial_PD_T2_FSE__br_raw_20070225110128511_89_S27090_I41584.png\n",
      "Imagen y matriz guardadas: ADNI_002_S_0729_MR_Axial_PD_T2_FSE__br_raw_20070225110145863_30_S27090_I41587.png\n",
      "Imagen y matriz guardadas: ADNI_002_S_0729_MR_Axial_PD_T2_FSE__br_raw_20070225110145413_29_S27090_I41584.png\n",
      "Imagen y matriz guardadas: ADNI_002_S_0729_MR_Axial_PD_T2_FSE__br_raw_20070225110130885_11_S27090_I41584.png\n",
      "Imagen y matriz guardadas: ADNI_002_S_0729_MR_Axial_PD_T2_FSE__br_raw_20070225110144988_22_S27090_I41587.png\n",
      "Imagen y matriz guardadas: ADNI_002_S_0729_MR_Axial_PD_T2_FSE__br_raw_20070225110131779_19_S27090_I41584.png\n",
      "Imagen y matriz guardadas: ADNI_002_S_0729_MR_Axial_PD_T2_FSE__br_raw_20070225110144294_21_S27090_I41584.png\n",
      "Imagen y matriz guardadas: ADNI_002_S_0729_MR_Axial_PD_T2_FSE__br_raw_20070225110132200_20_S27090_I41587.png\n",
      "Imagen y matriz guardadas: ADNI_002_S_0729_MR_Axial_PD_T2_FSE__br_raw_20070225110143858_14_S27090_I41587.png\n",
      "Imagen y matriz guardadas: ADNI_002_S_0729_MR_Axial_PD_T2_FSE__br_raw_20070225110132628_27_S27090_I41584.png\n",
      "Imagen y matriz guardadas: ADNI_002_S_0729_MR_Axial_PD_T2_FSE__br_raw_20070225110142740_13_S27090_I41584.png\n",
      "Imagen y matriz guardadas: ADNI_002_S_0729_MR_Axial_PD_T2_FSE__br_raw_20070225110133050_28_S27090_I41587.png\n",
      "Imagen y matriz guardadas: ADNI_002_S_0729_MR_Axial_PD_T2_FSE__br_raw_20070225110142344_6_S27090_I41587.png\n",
      "Imagen y matriz guardadas: ADNI_002_S_0729_MR_Axial_PD_T2_FSE__br_raw_20070225110133458_35_S27090_I41584.png\n",
      "Imagen y matriz guardadas: ADNI_002_S_0729_MR_Axial_PD_T2_FSE__br_raw_20070225110141925_5_S27090_I41584.png\n",
      "Imagen y matriz guardadas: ADNI_002_S_0729_MR_Axial_PD_T2_FSE__br_raw_20070225110134587_36_S27090_I41587.png\n",
      "Imagen y matriz guardadas: ADNI_002_S_0729_MR_Axial_PD_T2_FSE__br_raw_20070225110141513_92_S27090_I41587.png\n",
      "Imagen y matriz guardadas: ADNI_002_S_0729_MR_Axial_PD_T2_FSE__br_raw_20070225110135005_43_S27090_I41584.png\n",
      "Imagen y matriz guardadas: ADNI_002_S_0729_MR_Axial_PD_T2_FSE__br_raw_20070225110140908_91_S27090_I41584.png\n",
      "Imagen y matriz guardadas: ADNI_002_S_0729_MR_Axial_PD_T2_FSE__br_raw_20070225110135421_44_S27090_I41587.png\n",
      "Imagen y matriz guardadas: ADNI_002_S_0729_MR_Axial_PD_T2_FSE__br_raw_20070225110140429_84_S27090_I41587.png\n",
      "Imagen y matriz guardadas: ADNI_002_S_0729_MR_Axial_PD_T2_FSE__br_raw_20070225110135951_51_S27090_I41584.png\n",
      "Imagen y matriz guardadas: ADNI_002_S_0729_MR_Axial_PD_T2_FSE__br_raw_20070225110139601_76_S27090_I41587.png\n",
      "Imagen y matriz guardadas: ADNI_002_S_0729_MR_Axial_PD_T2_FSE__br_raw_20070225110140018_83_S27090_I41584.png\n",
      "Imagen y matriz guardadas: ADNI_002_S_0729_MR_Axial_PD_T2_FSE__br_raw_20070225110136397_52_S27090_I41587.png\n",
      "Imagen y matriz guardadas: ADNI_002_S_0729_MR_Axial_PD_T2_FSE__br_raw_20070225110139221_75_S27090_I41584.png\n",
      "Imagen y matriz guardadas: ADNI_002_S_0729_MR_Axial_PD_T2_FSE__br_raw_20070225110136836_59_S27090_I41584.png\n",
      "Imagen y matriz guardadas: ADNI_002_S_0729_MR_Axial_PD_T2_FSE__br_raw_20070225110138104_68_S27090_I41587.png\n",
      "Imagen y matriz guardadas: ADNI_002_S_0729_MR_Axial_PD_T2_FSE__br_raw_20070225110137259_60_S27090_I41587.png\n",
      "Imagen y matriz guardadas: ADNI_002_S_0729_MR_Axial_PD_T2_FSE__br_raw_20070225110137686_67_S27090_I41584.png\n",
      "Done!\n"
     ]
    }
   ],
   "source": [
    "# Iterar sobre cada archivo en la carpeta\n",
    "for filename in files:\n",
    "    # Comprobar si el archivo es un archivo DICOM\n",
    "    if filename.endswith(\".dcm\"):\n",
    "        file_path = os.path.join(input_folder_path, filename)\n",
    "        \n",
    "        # Leer el archivo DICOM\n",
    "        file = pydicom.dcmread(file_path)\n",
    "        \n",
    "        # Verificar si el archivo DICOM contiene datos de píxeles de imagen\n",
    "        if 'PixelData' in file:\n",
    "            # Obtener la matriz de píxeles de la imagen\n",
    "            image = file.pixel_array\n",
    "            \n",
    "            # Guardar la matriz de píxeles como un archivo NumPy\n",
    "            np.save(os.path.join(output_matrices_folder_path, os.path.splitext(filename)[0] + \".npy\"), image)\n",
    "            \n",
    "            # Agregar la matriz de píxeles a la lista\n",
    "            pixel_arrays.append(image)\n",
    "            \n",
    "            # Mostrar la imagen en una ventana emergente con matplotlib\n",
    "            plt.imshow(image, cmap=plt.cm.gray)\n",
    "            plt.axis('off')  # Deshabilitar los ejes\n",
    "            plt.title(filename)\n",
    "            plt.savefig(os.path.join(output_images_folder_path, os.path.splitext(filename)[0] + \".png\"))\n",
    "            plt.close()  # Cerrar la figura para liberar memoria\n",
    "            \n",
    "            print(\"Imagen y matriz guardadas:\", os.path.splitext(filename)[0] + \".png\")\n",
    "            \n",
    "print(\"Done!\")"
   ]
  },
  {
   "cell_type": "code",
   "execution_count": 8,
   "id": "6f5570d2-1b68-46aa-bd57-8f64ad4b78b1",
   "metadata": {
    "tags": []
   },
   "outputs": [],
   "source": [
    "# Convertir la lista de matrices de píxeles en una matriz NumPy\n",
    "pixel_arrays = np.array(pixel_arrays)"
   ]
  },
  {
   "cell_type": "code",
   "execution_count": 9,
   "id": "f0584113-4a9b-453f-83ca-e6c4654fabd3",
   "metadata": {
    "tags": []
   },
   "outputs": [
    {
     "data": {
      "text/plain": [
       "array([[[0, 0, 0, ..., 0, 0, 0],\n",
       "        [0, 0, 0, ..., 0, 0, 0],\n",
       "        [0, 0, 0, ..., 0, 0, 0],\n",
       "        ...,\n",
       "        [0, 0, 0, ..., 0, 0, 0],\n",
       "        [0, 0, 0, ..., 0, 0, 0],\n",
       "        [0, 0, 0, ..., 0, 0, 0]],\n",
       "\n",
       "       [[0, 0, 0, ..., 0, 0, 0],\n",
       "        [0, 0, 0, ..., 0, 0, 0],\n",
       "        [0, 0, 0, ..., 0, 0, 0],\n",
       "        ...,\n",
       "        [0, 0, 0, ..., 0, 0, 0],\n",
       "        [0, 0, 0, ..., 0, 0, 0],\n",
       "        [0, 0, 0, ..., 0, 0, 0]],\n",
       "\n",
       "       [[0, 0, 0, ..., 0, 0, 0],\n",
       "        [0, 0, 0, ..., 0, 0, 0],\n",
       "        [0, 0, 0, ..., 0, 0, 0],\n",
       "        ...,\n",
       "        [0, 0, 0, ..., 0, 0, 0],\n",
       "        [0, 0, 0, ..., 0, 0, 0],\n",
       "        [0, 0, 0, ..., 0, 0, 0]],\n",
       "\n",
       "       ...,\n",
       "\n",
       "       [[0, 0, 0, ..., 0, 0, 0],\n",
       "        [0, 0, 0, ..., 0, 0, 0],\n",
       "        [0, 0, 0, ..., 0, 0, 0],\n",
       "        ...,\n",
       "        [0, 0, 0, ..., 0, 0, 0],\n",
       "        [0, 0, 0, ..., 0, 0, 0],\n",
       "        [0, 0, 0, ..., 0, 0, 0]],\n",
       "\n",
       "       [[0, 0, 0, ..., 0, 0, 0],\n",
       "        [0, 0, 0, ..., 0, 0, 0],\n",
       "        [0, 0, 0, ..., 0, 0, 0],\n",
       "        ...,\n",
       "        [0, 0, 0, ..., 0, 0, 0],\n",
       "        [0, 0, 0, ..., 0, 0, 0],\n",
       "        [0, 0, 0, ..., 0, 0, 0]],\n",
       "\n",
       "       [[0, 0, 0, ..., 0, 0, 0],\n",
       "        [0, 0, 0, ..., 0, 0, 0],\n",
       "        [0, 0, 0, ..., 0, 0, 0],\n",
       "        ...,\n",
       "        [0, 0, 0, ..., 0, 0, 0],\n",
       "        [0, 0, 0, ..., 0, 0, 0],\n",
       "        [0, 0, 0, ..., 0, 0, 0]]], dtype=int16)"
      ]
     },
     "execution_count": 9,
     "metadata": {},
     "output_type": "execute_result"
    }
   ],
   "source": [
    "pixel_arrays"
   ]
  }
 ],
 "metadata": {
  "kernelspec": {
   "display_name": "Python 3 (ipykernel)",
   "language": "python",
   "name": "python3"
  },
  "language_info": {
   "codemirror_mode": {
    "name": "ipython",
    "version": 3
   },
   "file_extension": ".py",
   "mimetype": "text/x-python",
   "name": "python",
   "nbconvert_exporter": "python",
   "pygments_lexer": "ipython3",
   "version": "3.12.8"
  }
 },
 "nbformat": 4,
 "nbformat_minor": 5
}
